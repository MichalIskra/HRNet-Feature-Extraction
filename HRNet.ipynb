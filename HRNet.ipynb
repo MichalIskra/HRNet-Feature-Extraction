{
  "nbformat": 4,
  "nbformat_minor": 0,
  "metadata": {
    "colab": {
      "name": "HRNet.ipynb",
      "provenance": [],
      "collapsed_sections": []
    },
    "kernelspec": {
      "name": "python3",
      "display_name": "Python 3"
    },
    "language_info": {
      "name": "python"
    },
    "accelerator": "GPU",
    "gpuClass": "standard"
  },
  "cells": [
    {
      "cell_type": "code",
      "source": [
        "! pip install timm"
      ],
      "metadata": {
        "id": "kQuFRdMSO8wQ",
        "colab": {
          "base_uri": "https://localhost:8080/"
        },
        "outputId": "bac8b26e-60c8-49a5-da55-d049a6969e4c"
      },
      "execution_count": null,
      "outputs": [
        {
          "output_type": "stream",
          "name": "stdout",
          "text": [
            "Looking in indexes: https://pypi.org/simple, https://us-python.pkg.dev/colab-wheels/public/simple/\n",
            "Requirement already satisfied: timm in /usr/local/lib/python3.7/dist-packages (0.5.4)\n",
            "Requirement already satisfied: torchvision in /usr/local/lib/python3.7/dist-packages (from timm) (0.12.0+cu113)\n",
            "Requirement already satisfied: torch>=1.4 in /usr/local/lib/python3.7/dist-packages (from timm) (1.11.0+cu113)\n",
            "Requirement already satisfied: typing-extensions in /usr/local/lib/python3.7/dist-packages (from torch>=1.4->timm) (4.2.0)\n",
            "Requirement already satisfied: numpy in /usr/local/lib/python3.7/dist-packages (from torchvision->timm) (1.21.6)\n",
            "Requirement already satisfied: requests in /usr/local/lib/python3.7/dist-packages (from torchvision->timm) (2.23.0)\n",
            "Requirement already satisfied: pillow!=8.3.*,>=5.3.0 in /usr/local/lib/python3.7/dist-packages (from torchvision->timm) (7.1.2)\n",
            "Requirement already satisfied: certifi>=2017.4.17 in /usr/local/lib/python3.7/dist-packages (from requests->torchvision->timm) (2022.5.18.1)\n",
            "Requirement already satisfied: urllib3!=1.25.0,!=1.25.1,<1.26,>=1.21.1 in /usr/local/lib/python3.7/dist-packages (from requests->torchvision->timm) (1.24.3)\n",
            "Requirement already satisfied: idna<3,>=2.5 in /usr/local/lib/python3.7/dist-packages (from requests->torchvision->timm) (2.10)\n",
            "Requirement already satisfied: chardet<4,>=3.0.2 in /usr/local/lib/python3.7/dist-packages (from requests->torchvision->timm) (3.0.4)\n"
          ]
        }
      ]
    },
    {
      "cell_type": "code",
      "source": [
        "import numpy as np\n",
        "import pandas as pd\n",
        "import matplotlib.pyplot as plt\n",
        "\n",
        "import time\n",
        "import random # for torch seed\n",
        "import os # for torch seed\n",
        "import cv2\n",
        "import numpy as np\n",
        "\n",
        "from sklearn.model_selection import train_test_split\n",
        "\n",
        "import torch\n",
        "from torch import nn\n",
        "from torch.utils.data import Dataset, DataLoader\n",
        "from torch.optim import Adam, AdamW, RMSprop # optmizers\n",
        "from torch.optim.lr_scheduler import CosineAnnealingLR, ReduceLROnPlateau # Learning rate schedulers\n",
        "\n",
        "import timm #models pretrained\n",
        "\n",
        "from sklearn.model_selection import train_test_split\n",
        "\n",
        "from PIL import Image\n",
        "\n",
        "import matplotlib.pyplot as plt\n",
        "\n",
        "import zipfile\n",
        "\n",
        "import torchvision.transforms as T\n",
        "from torchvision.utils import make_grid\n",
        "import torchvision.models as models"
      ],
      "metadata": {
        "id": "4ibwT8pwO2nJ"
      },
      "execution_count": null,
      "outputs": []
    },
    {
      "cell_type": "markdown",
      "source": [
        "# Przygotowanie Datasetu"
      ],
      "metadata": {
        "id": "zN1X309wqYOO"
      }
    },
    {
      "cell_type": "markdown",
      "source": [
        "Pobranie DataSetu"
      ],
      "metadata": {
        "id": "-CcjgxIMvaLw"
      }
    },
    {
      "cell_type": "code",
      "source": [
        "! ls ~/.kaggle"
      ],
      "metadata": {
        "id": "gYHjoo0toTIH",
        "colab": {
          "base_uri": "https://localhost:8080/"
        },
        "outputId": "1539280a-4b29-4870-eb6d-036b30e99a0a"
      },
      "execution_count": null,
      "outputs": [
        {
          "output_type": "stream",
          "name": "stdout",
          "text": [
            "kaggle.json\n"
          ]
        }
      ]
    },
    {
      "cell_type": "code",
      "source": [
        "! pip install kaggle\n",
        "! mkdir ~/.kaggle\n",
        "! cp kaggle.json ~/.kaggle/\n",
        "! chmod 600 ~/.kaggle/kaggle.json"
      ],
      "metadata": {
        "id": "YB9T03XOmTws",
        "colab": {
          "base_uri": "https://localhost:8080/"
        },
        "outputId": "af3fea88-9592-4c57-d4fb-7330f5ef7dfd"
      },
      "execution_count": null,
      "outputs": [
        {
          "output_type": "stream",
          "name": "stdout",
          "text": [
            "Looking in indexes: https://pypi.org/simple, https://us-python.pkg.dev/colab-wheels/public/simple/\n",
            "Requirement already satisfied: kaggle in /usr/local/lib/python3.7/dist-packages (1.5.12)\n",
            "Requirement already satisfied: urllib3 in /usr/local/lib/python3.7/dist-packages (from kaggle) (1.24.3)\n",
            "Requirement already satisfied: python-dateutil in /usr/local/lib/python3.7/dist-packages (from kaggle) (2.8.2)\n",
            "Requirement already satisfied: certifi in /usr/local/lib/python3.7/dist-packages (from kaggle) (2022.5.18.1)\n",
            "Requirement already satisfied: six>=1.10 in /usr/local/lib/python3.7/dist-packages (from kaggle) (1.15.0)\n",
            "Requirement already satisfied: requests in /usr/local/lib/python3.7/dist-packages (from kaggle) (2.23.0)\n",
            "Requirement already satisfied: tqdm in /usr/local/lib/python3.7/dist-packages (from kaggle) (4.64.0)\n",
            "Requirement already satisfied: python-slugify in /usr/local/lib/python3.7/dist-packages (from kaggle) (6.1.2)\n",
            "Requirement already satisfied: text-unidecode>=1.3 in /usr/local/lib/python3.7/dist-packages (from python-slugify->kaggle) (1.3)\n",
            "Requirement already satisfied: idna<3,>=2.5 in /usr/local/lib/python3.7/dist-packages (from requests->kaggle) (2.10)\n",
            "Requirement already satisfied: chardet<4,>=3.0.2 in /usr/local/lib/python3.7/dist-packages (from requests->kaggle) (3.0.4)\n",
            "mkdir: cannot create directory ‘/root/.kaggle’: File exists\n"
          ]
        }
      ]
    },
    {
      "cell_type": "code",
      "source": [
        "#! kaggle competitions download <name-of-competition>\n",
        "#! kaggle datasets download <name-of-dataset>"
      ],
      "metadata": {
        "id": "ISwxR1ZTnC-4"
      },
      "execution_count": null,
      "outputs": []
    },
    {
      "cell_type": "code",
      "source": [
        "! kaggle competitions download dogs-vs-cats"
      ],
      "metadata": {
        "id": "KPG0LVIIn8a3",
        "colab": {
          "base_uri": "https://localhost:8080/"
        },
        "outputId": "eb7e270b-e972-4fab-df45-832782604b6d"
      },
      "execution_count": null,
      "outputs": [
        {
          "output_type": "stream",
          "name": "stdout",
          "text": [
            "dogs-vs-cats.zip: Skipping, found more recently modified local copy (use --force to force download)\n"
          ]
        }
      ]
    },
    {
      "cell_type": "markdown",
      "source": [
        "Ekstrakcja DataSetu"
      ],
      "metadata": {
        "id": "UyQhvkc5TIjo"
      }
    },
    {
      "cell_type": "code",
      "source": [
        "### Extracting whole dataset\n",
        "ZIP_DATA_PATH = \"./dogs-vs-cats.zip\"\n",
        "\n",
        "zipfile.ZipFile(ZIP_DATA_PATH, mode=\"r\").extractall()"
      ],
      "metadata": {
        "id": "iP8xgTtrrU7Q"
      },
      "execution_count": null,
      "outputs": []
    },
    {
      "cell_type": "code",
      "source": [
        "### Extracting train and test dataset\n",
        "ZIP_TRAIN_DATA_PATH = \"./train.zip\"\n",
        "ZIP_TEST_DATA_PATH = \"./test1.zip\"\n",
        "\n",
        "zipfile.ZipFile(ZIP_TRAIN_DATA_PATH, mode=\"r\").extractall()\n",
        "zipfile.ZipFile(ZIP_TEST_DATA_PATH, mode=\"r\").extractall()\n",
        "\n",
        "TRAIN_PATH = './train/'\n",
        "TEST_PATH = './test1/'"
      ],
      "metadata": {
        "id": "RnuUfr2LtWRm"
      },
      "execution_count": null,
      "outputs": []
    },
    {
      "cell_type": "markdown",
      "source": [
        "Parametry Input do Modelu"
      ],
      "metadata": {
        "id": "1REVcRzcu3MK"
      }
    },
    {
      "cell_type": "code",
      "source": [
        "WIDTH = 256\n",
        "HEIGHT = 192"
      ],
      "metadata": {
        "id": "-23briGwu2dO"
      },
      "execution_count": null,
      "outputs": []
    },
    {
      "cell_type": "markdown",
      "source": [
        "Transformacje zbiorów Train i Val"
      ],
      "metadata": {
        "id": "OVWPiIvEvkpf"
      }
    },
    {
      "cell_type": "code",
      "source": [
        "def get_train_transform():\n",
        "    return T.Compose([\n",
        "        T.CenterCrop((HEIGHT,WIDTH)),\n",
        "        T.ToTensor(),\n",
        "        T.Normalize(mean=[0.485, 0.456, 0.406], std=[0.229, 0.224, 0.225]),\n",
        "    ])\n",
        "\n",
        "\n",
        "def get_test_transform():\n",
        "    return T.Compose([\n",
        "        T.CenterCrop((HEIGHT,WIDTH)),\n",
        "        #T.Resize((HEIGHT,WIDTH)),\n",
        "        T.ToTensor(),\n",
        "        T.Normalize(mean=[0.485, 0.456, 0.406], std=[0.229, 0.224, 0.225]),\n",
        "    ])"
      ],
      "metadata": {
        "id": "B7d_Jl73TIFT"
      },
      "execution_count": null,
      "outputs": []
    },
    {
      "cell_type": "code",
      "source": [
        "class CatDogDataset(Dataset):\n",
        "\n",
        "    def __init__(self, imgs, directory, class_to_int, device, mode=\"train\", transforms=None):\n",
        "\n",
        "        super().__init__()\n",
        "        self.imgs = imgs\n",
        "        self.directory = directory\n",
        "        self.class_to_int = class_to_int\n",
        "        self.mode = mode\n",
        "        self.transforms = transforms\n",
        "        self.device = device\n",
        "\n",
        "    def __getitem__(self, idx):\n",
        "\n",
        "        ### Taking name from names list\n",
        "        image_name = self.imgs[idx]\n",
        "\n",
        "        ### Reading, converting and normalizing image\n",
        "        img = cv2.imread(self.directory + image_name, cv2.IMREAD_COLOR)\n",
        "        img = cv2.cvtColor(img, cv2.COLOR_BGR2RGB).astype(np.float32)\n",
        "        img /= 255.\n",
        "        img = Image.open(self.directory + image_name)\n",
        "\n",
        "        if self.mode == \"train\" or self.mode == \"val\":\n",
        "\n",
        "            ### Preparing class label\n",
        "            label = self.class_to_int[image_name.split(\".\")[0]]\n",
        "            label = torch.tensor(label, dtype=torch.int64)\n",
        "\n",
        "            ### Apply Transforms on image\n",
        "            img = self.transforms(img)\n",
        "\n",
        "            return img, label\n",
        "\n",
        "        elif self.mode == \"test\":\n",
        "\n",
        "            ### Apply Transforms on image\n",
        "            img = self.transforms(img)\n",
        "\n",
        "            return img\n",
        "\n",
        "    def __len__(self):\n",
        "        return len(self.imgs)\n",
        "\n",
        "#Reading all names in directory\n",
        "train_imgs = os.listdir(TRAIN_PATH)\n",
        "test_imgs = os.listdir(TEST_PATH)\n",
        "\n",
        "### Datasets creating\n",
        "class_to_int = {\"dog\":0, \"cat\":1}\n",
        "train_dataset = CatDogDataset(train_imgs, TRAIN_PATH, class_to_int, device, mode=\"train\", transforms = get_train_transform())\n",
        "test_dataset = CatDogDataset(test_imgs, TEST_PATH, class_to_int, device,  mode=\"test\", transforms = get_test_transform())\n",
        "\n",
        "train_data_loader = DataLoader(\n",
        "    dataset=train_dataset,\n",
        "    num_workers=1,\n",
        "    batch_size=1,\n",
        "    shuffle=True\n",
        ")\n",
        "\n",
        "test_data_loader = DataLoader(\n",
        "    dataset=test_dataset,\n",
        "    num_workers=1,\n",
        "    batch_size=1,\n",
        "    shuffle=True\n",
        ")"
      ],
      "metadata": {
        "id": "LUzZDyqGur4z"
      },
      "execution_count": null,
      "outputs": []
    },
    {
      "cell_type": "code",
      "source": [
        "%%script echo skipping\n",
        "### Getting images from train DataLoader -> We've got labels and 3 channels od image\n",
        "imgs = next(iter(train_data_loader))\n",
        "img1 = imgs[0][0]\n",
        "plt.imshow(img1.permute(1,2,0))\n",
        "plt.show()\n",
        "print(int(imgs[1]))"
      ],
      "metadata": {
        "colab": {
          "base_uri": "https://localhost:8080/"
        },
        "id": "d6xPqk_NbTfh",
        "outputId": "52af8b89-4244-4bee-dca6-06c12230e89b"
      },
      "execution_count": null,
      "outputs": [
        {
          "output_type": "stream",
          "name": "stdout",
          "text": [
            "skipping\n"
          ]
        }
      ]
    },
    {
      "cell_type": "code",
      "source": [
        "%%script echo skipping\n",
        "### Showing image from test dataloader we do not have labels here\n",
        "img1 = next(iter(test_data_loader))\n",
        "img1.shape\n",
        "plt.imshow(img1[0].permute(1, 2, 0))\n"
      ],
      "metadata": {
        "colab": {
          "base_uri": "https://localhost:8080/"
        },
        "id": "Uws-gIenvkkc",
        "outputId": "927ce634-f38a-49f9-ad56-2cfa68f1cdbd"
      },
      "execution_count": null,
      "outputs": [
        {
          "output_type": "stream",
          "name": "stdout",
          "text": [
            "skipping\n"
          ]
        }
      ]
    },
    {
      "cell_type": "code",
      "source": [
        "class HRNetEmbedding(nn.Module):\n",
        "      def __init__(self):\n",
        "        super().__init__()\n",
        "\n",
        "        #init a pretrained HRNet\n",
        "        self.cnn = timm.create_model('hrnet_w18', pretrained=True)\n",
        "       \n",
        "        layers = list(self.cnn.children())[:]\n",
        "        #num_features = layers[-1].out_features\n",
        "        #print(num_features)\n",
        "\n",
        "      def forward(self, x):\n",
        "        \n",
        "        #self.cnn.eval()\n",
        "        #x = self.cnn(x)\n",
        "        self.cnn.forward_features(x)\n",
        "        return x"
      ],
      "metadata": {
        "id": "EMyP30tYObuD"
      },
      "execution_count": null,
      "outputs": []
    },
    {
      "cell_type": "code",
      "source": [
        "device = torch.device('cuda' if torch.cuda.is_available() else 'cpu')\n",
        "print('Using device:', device)"
      ],
      "metadata": {
        "colab": {
          "base_uri": "https://localhost:8080/"
        },
        "id": "NHzLRFji0YLc",
        "outputId": "ebca579c-99a8-49a4-eeed-902e58163ef2"
      },
      "execution_count": null,
      "outputs": [
        {
          "output_type": "stream",
          "name": "stdout",
          "text": [
            "Using device: cuda\n"
          ]
        }
      ]
    },
    {
      "cell_type": "code",
      "source": [
        "model = timm.create_model('hrnet_w18', pretrained = True, num_classes = 20)\n",
        "model.eval()\n",
        "model.to(device)"
      ],
      "metadata": {
        "id": "MP2cTPBhiwdm"
      },
      "execution_count": null,
      "outputs": []
    },
    {
      "cell_type": "markdown",
      "source": [
        "Tests with getting features from images"
      ],
      "metadata": {
        "id": "m26_E63QgkMB"
      }
    },
    {
      "cell_type": "code",
      "source": [
        "%%script echo skipping\n",
        "#layers = list(model.children())[:]\n",
        "#print(layers)"
      ],
      "metadata": {
        "id": "srkMHrt0CMwN",
        "colab": {
          "base_uri": "https://localhost:8080/"
        },
        "outputId": "1da99bd4-dddc-4891-d405-7bc47c87638b"
      },
      "execution_count": null,
      "outputs": [
        {
          "output_type": "stream",
          "name": "stdout",
          "text": [
            "skipping\n"
          ]
        }
      ]
    },
    {
      "cell_type": "code",
      "source": [
        "%%script echo skipping\n",
        "WIDTH = 256\n",
        "HEIGHT = 192\n",
        "o =torch.randn(1, 3, 256, 192)"
      ],
      "metadata": {
        "id": "5ESuogKGfP_T",
        "colab": {
          "base_uri": "https://localhost:8080/"
        },
        "outputId": "c51a3541-c570-462d-dd65-ff4cd0193471"
      },
      "execution_count": null,
      "outputs": [
        {
          "output_type": "stream",
          "name": "stdout",
          "text": [
            "skipping\n"
          ]
        }
      ]
    },
    {
      "cell_type": "code",
      "source": [
        "%%script echo skipping\n",
        "ftrs = model.forward_features(img1)"
      ],
      "metadata": {
        "id": "C5fNmCkCi-bw",
        "colab": {
          "base_uri": "https://localhost:8080/"
        },
        "outputId": "73ce5164-6173-472f-f87d-cdd2cced6e63"
      },
      "execution_count": null,
      "outputs": [
        {
          "output_type": "stream",
          "name": "stdout",
          "text": [
            "skipping\n"
          ]
        }
      ]
    },
    {
      "cell_type": "code",
      "source": [
        "%%script echo skipping\n",
        "ftrs.shape"
      ],
      "metadata": {
        "colab": {
          "base_uri": "https://localhost:8080/"
        },
        "id": "1HlMHqUijLEn",
        "outputId": "2c131814-d235-43e1-b0fc-2619f9accb87"
      },
      "execution_count": null,
      "outputs": [
        {
          "output_type": "stream",
          "name": "stdout",
          "text": [
            "skipping\n"
          ]
        }
      ]
    },
    {
      "cell_type": "code",
      "source": [
        "%%script echo skipping\n",
        "ftrs = model(imgs[0])"
      ],
      "metadata": {
        "colab": {
          "base_uri": "https://localhost:8080/"
        },
        "id": "u6iU-NK3Xwyd",
        "outputId": "2b53ec87-2c01-48ec-d766-717bbbd0f88d"
      },
      "execution_count": null,
      "outputs": [
        {
          "output_type": "stream",
          "name": "stdout",
          "text": [
            "skipping\n"
          ]
        }
      ]
    },
    {
      "cell_type": "code",
      "source": [
        "%%script echo skipping\n",
        "ftrs.shape"
      ],
      "metadata": {
        "colab": {
          "base_uri": "https://localhost:8080/"
        },
        "id": "niU_xfIPYS1w",
        "outputId": "9a4c5a0a-57bd-4779-d639-63a08c954382"
      },
      "execution_count": null,
      "outputs": [
        {
          "output_type": "stream",
          "name": "stdout",
          "text": [
            "skipping\n"
          ]
        }
      ]
    },
    {
      "cell_type": "code",
      "source": [
        "%%script echo skipping\n",
        "import sys\n",
        "sys.getsizeof(ftrs)"
      ],
      "metadata": {
        "colab": {
          "base_uri": "https://localhost:8080/"
        },
        "id": "LGaRQwJ3mdif",
        "outputId": "f82b47c7-747d-45a5-9dae-b52bcbf0b715"
      },
      "execution_count": null,
      "outputs": [
        {
          "output_type": "stream",
          "name": "stdout",
          "text": [
            "skipping\n"
          ]
        }
      ]
    },
    {
      "cell_type": "markdown",
      "source": [
        "# **Wyznaczenie wektorów cech dla zbioru danych** - wektor cech o długości 20"
      ],
      "metadata": {
        "id": "m67f9-RTgyhz"
      }
    },
    {
      "cell_type": "code",
      "source": [
        "NUMBER_OF_FEATURES = 0"
      ],
      "metadata": {
        "id": "eTkjH6eUaitA"
      },
      "execution_count": null,
      "outputs": []
    },
    {
      "cell_type": "code",
      "source": [
        "model = timm.create_model('hrnet_w18', pretrained = True, num_classes = NUMBER_OF_FEATURES)\n",
        "model.eval()\n",
        "model.to(device)"
      ],
      "metadata": {
        "id": "fAEnCrILah_n"
      },
      "execution_count": null,
      "outputs": []
    },
    {
      "cell_type": "code",
      "source": [
        "x = []\n",
        "y = []"
      ],
      "metadata": {
        "id": "6biTibr6aXz4"
      },
      "execution_count": null,
      "outputs": []
    },
    {
      "cell_type": "code",
      "source": [
        "with torch.no_grad():\n",
        "  for item in iter(train_data_loader):\n",
        "    img = item[0]\n",
        "    label = item[1]\n",
        "\n",
        "    img = img.to(device)\n",
        "    label = label.to(device)\n",
        "\n",
        "    output = model(img)\n",
        "\n",
        "    ###getting feature 2D torch tensor and converting to numpy 1D array\n",
        "    features = np.asarray(output.to('cpu')).flatten()\n",
        "\n",
        "    ### Adding feature vectors to train list\n",
        "    x.append(features)\n",
        "\n",
        "    ### Adding label to train list\n",
        "    y.append(int(item[1]))"
      ],
      "metadata": {
        "id": "rxCtD155Z_3p"
      },
      "execution_count": null,
      "outputs": []
    },
    {
      "cell_type": "code",
      "source": [
        "print(len(x))\n",
        "print(len(y))"
      ],
      "metadata": {
        "colab": {
          "base_uri": "https://localhost:8080/"
        },
        "id": "aBfGGkdnswO6",
        "outputId": "d2a92b8f-5aaf-4e69-ed52-659605edd534"
      },
      "execution_count": null,
      "outputs": [
        {
          "output_type": "stream",
          "name": "stdout",
          "text": [
            "25000\n",
            "25000\n"
          ]
        }
      ]
    },
    {
      "cell_type": "code",
      "source": [
        "from sklearn.model_selection import train_test_split\n",
        "x_train, x_test, y_train, y_test = train_test_split(x,y,test_size = 0.2)"
      ],
      "metadata": {
        "id": "NCOEGCLOve_d"
      },
      "execution_count": null,
      "outputs": []
    },
    {
      "cell_type": "code",
      "source": [
        "print(len(x_train))\n",
        "print(len(y_train))\n",
        "print(len(x_test))\n",
        "print(len(y_test))"
      ],
      "metadata": {
        "colab": {
          "base_uri": "https://localhost:8080/"
        },
        "id": "fwbCpDL-RE7Q",
        "outputId": "a5706796-25a5-4ae1-c357-1620749197e9"
      },
      "execution_count": null,
      "outputs": [
        {
          "output_type": "stream",
          "name": "stdout",
          "text": [
            "20000\n",
            "20000\n",
            "5000\n",
            "5000\n"
          ]
        }
      ]
    },
    {
      "cell_type": "markdown",
      "source": [
        "# **Modele Uczenia Maszynowego - Trening i predykcja**"
      ],
      "metadata": {
        "id": "hT6kWFvARid8"
      }
    },
    {
      "cell_type": "code",
      "source": [
        "results = {'SVM':[],\n",
        "           'KSVM':[],\n",
        "           'NB':[],\n",
        "           'KNN':[],\n",
        "           'RF':[],\n",
        "           'DT':[],\n",
        "           'LDA':[],\n",
        "           'LR':[],\n",
        "           'MLP':[],\n",
        "           'ADA':[]\n",
        "           }"
      ],
      "metadata": {
        "id": "-oMy7lZFR7LD"
      },
      "execution_count": null,
      "outputs": []
    },
    {
      "cell_type": "code",
      "source": [
        "from sklearn.metrics import confusion_matrix, accuracy_score\n",
        "\n",
        "def test_model(classifier, x_test, y_test, name):\n",
        "  y_pred = classifier.predict(x_test)\n",
        "  cm = confusion_matrix(y_test, y_pred)\n",
        "  print(cm)\n",
        "  accuracy = accuracy_score(y_test, y_pred)\n",
        "  print(f\"Accuracy for {name}: {accuracy}\")\n",
        "  return accuracy "
      ],
      "metadata": {
        "id": "wf99Px0vUcMZ"
      },
      "execution_count": null,
      "outputs": []
    },
    {
      "cell_type": "markdown",
      "source": [
        "# Support Vector Machine"
      ],
      "metadata": {
        "id": "UCparnuUxcWV"
      }
    },
    {
      "cell_type": "code",
      "source": [
        "from sklearn.svm import SVC\n",
        "classifier = SVC(kernel = 'linear', random_state = 0)\n",
        "classifier.fit(x_train, y_train)"
      ],
      "metadata": {
        "colab": {
          "base_uri": "https://localhost:8080/"
        },
        "id": "BDlAbwgbxnWK",
        "outputId": "a9da3b82-8f9b-4529-cc9c-fbf8f08a7e2f"
      },
      "execution_count": null,
      "outputs": [
        {
          "output_type": "execute_result",
          "data": {
            "text/plain": [
              "SVC(kernel='linear', random_state=0)"
            ]
          },
          "metadata": {},
          "execution_count": 293
        }
      ]
    },
    {
      "cell_type": "code",
      "source": [
        "accuracy = test_model(classifier, x_test, y_test, 'Support Vector Machine')\n",
        "results['SVM'].append(accuracy)"
      ],
      "metadata": {
        "colab": {
          "base_uri": "https://localhost:8080/"
        },
        "id": "aB3BgU9PUthr",
        "outputId": "5372d52f-64f0-40f6-9f98-1b9ab63c2ecc"
      },
      "execution_count": null,
      "outputs": [
        {
          "output_type": "stream",
          "name": "stdout",
          "text": [
            "[[2426   44]\n",
            " [  33 2497]]\n",
            "Accuracy for Support Vector Machine: 0.9846\n"
          ]
        }
      ]
    },
    {
      "cell_type": "markdown",
      "source": [
        "# Kernel Support Vector Machine"
      ],
      "metadata": {
        "id": "hcjwo1BizAri"
      }
    },
    {
      "cell_type": "code",
      "source": [
        "from sklearn.svm import SVC\n",
        "classifier = SVC(kernel ='rbf', random_state = 0)\n",
        "classifier.fit(x_train, y_train)"
      ],
      "metadata": {
        "colab": {
          "base_uri": "https://localhost:8080/"
        },
        "id": "hhypHDkgzEYA",
        "outputId": "dba721e8-9228-4d84-d67c-c22ef5cc4387"
      },
      "execution_count": null,
      "outputs": [
        {
          "output_type": "execute_result",
          "data": {
            "text/plain": [
              "SVC(random_state=0)"
            ]
          },
          "metadata": {},
          "execution_count": 295
        }
      ]
    },
    {
      "cell_type": "code",
      "source": [
        "accuracy = test_model(classifier, x_test, y_test, 'Kernel Support Vector Machine')\n",
        "results['KSVM'].append(accuracy)"
      ],
      "metadata": {
        "colab": {
          "base_uri": "https://localhost:8080/"
        },
        "id": "awq6p6NLVtTt",
        "outputId": "ecfed27a-faf5-4744-85fc-263e0fa80d8b"
      },
      "execution_count": null,
      "outputs": [
        {
          "output_type": "stream",
          "name": "stdout",
          "text": [
            "[[2440   30]\n",
            " [  23 2507]]\n",
            "Accuracy for Kernel Support Vector Machine: 0.9894\n"
          ]
        }
      ]
    },
    {
      "cell_type": "markdown",
      "source": [
        "# Naive Bayes"
      ],
      "metadata": {
        "id": "FZfk1-9UyZQz"
      }
    },
    {
      "cell_type": "code",
      "source": [
        "from sklearn.naive_bayes import GaussianNB\n",
        "classifier = GaussianNB()\n",
        "classifier.fit(x_train, y_train)"
      ],
      "metadata": {
        "colab": {
          "base_uri": "https://localhost:8080/"
        },
        "id": "XJi4wlUNycbw",
        "outputId": "8a9d798f-2430-41c3-8a20-0eebd46b37be"
      },
      "execution_count": null,
      "outputs": [
        {
          "output_type": "execute_result",
          "data": {
            "text/plain": [
              "GaussianNB()"
            ]
          },
          "metadata": {},
          "execution_count": 297
        }
      ]
    },
    {
      "cell_type": "code",
      "source": [
        "accuracy = test_model(classifier, x_test, y_test, 'Naive Bayes')\n",
        "results['NB'].append(accuracy)"
      ],
      "metadata": {
        "colab": {
          "base_uri": "https://localhost:8080/"
        },
        "id": "UQqdsbzTWJ2G",
        "outputId": "40673162-8a26-4a1d-d4f9-a5ae4fea06dd"
      },
      "execution_count": null,
      "outputs": [
        {
          "output_type": "stream",
          "name": "stdout",
          "text": [
            "[[2451   19]\n",
            " [  89 2441]]\n",
            "Accuracy for Naive Bayes: 0.9784\n"
          ]
        }
      ]
    },
    {
      "cell_type": "markdown",
      "source": [
        "# K-Nearest Neigbours"
      ],
      "metadata": {
        "id": "8JMNDHQJNtQc"
      }
    },
    {
      "cell_type": "code",
      "source": [
        "from sklearn.neighbors import KNeighborsClassifier\n",
        "classifier = KNeighborsClassifier(n_neighbors = 20, metric = 'minkowski', p = 2)\n",
        "classifier.fit(x_train, y_train)"
      ],
      "metadata": {
        "colab": {
          "base_uri": "https://localhost:8080/"
        },
        "id": "U5Uyn3_aNwxG",
        "outputId": "02ba876e-7590-462f-cadc-d777894ebfea"
      },
      "execution_count": null,
      "outputs": [
        {
          "output_type": "execute_result",
          "data": {
            "text/plain": [
              "KNeighborsClassifier(n_neighbors=20)"
            ]
          },
          "metadata": {},
          "execution_count": 299
        }
      ]
    },
    {
      "cell_type": "code",
      "source": [
        "accuracy = test_model(classifier, x_test, y_test, 'K-Nearest Neighbours')\n",
        "results['KNN'].append(accuracy)"
      ],
      "metadata": {
        "colab": {
          "base_uri": "https://localhost:8080/"
        },
        "id": "86Xy5ToUWTqD",
        "outputId": "27d1bced-92b3-42dd-e280-b967f90753cf"
      },
      "execution_count": null,
      "outputs": [
        {
          "output_type": "stream",
          "name": "stdout",
          "text": [
            "[[2438   32]\n",
            " [  29 2501]]\n",
            "Accuracy for K-Nearest Neighbours: 0.9878\n"
          ]
        }
      ]
    },
    {
      "cell_type": "markdown",
      "source": [
        "# Random Forest"
      ],
      "metadata": {
        "id": "2qZo5s_QOPgZ"
      }
    },
    {
      "cell_type": "code",
      "source": [
        "from sklearn.ensemble import RandomForestClassifier\n",
        "classifier = RandomForestClassifier(n_estimators = 100, criterion = 'entropy', random_state = 0)\n",
        "classifier.fit(x_train, y_train)"
      ],
      "metadata": {
        "colab": {
          "base_uri": "https://localhost:8080/"
        },
        "id": "MiXFJZ7zOO5X",
        "outputId": "3131c780-f981-4cc3-b577-aa46115119a6"
      },
      "execution_count": null,
      "outputs": [
        {
          "output_type": "execute_result",
          "data": {
            "text/plain": [
              "RandomForestClassifier(criterion='entropy', random_state=0)"
            ]
          },
          "metadata": {},
          "execution_count": 301
        }
      ]
    },
    {
      "cell_type": "code",
      "source": [
        "accuracy = test_model(classifier, x_test, y_test, 'Random Forest')\n",
        "results['RF'].append(accuracy)"
      ],
      "metadata": {
        "colab": {
          "base_uri": "https://localhost:8080/"
        },
        "id": "IzqCWxXoWie0",
        "outputId": "ac80d289-65f6-4df7-b93f-a28dcc1a9814"
      },
      "execution_count": null,
      "outputs": [
        {
          "output_type": "stream",
          "name": "stdout",
          "text": [
            "[[2453   17]\n",
            " [  52 2478]]\n",
            "Accuracy for Random Forest: 0.9862\n"
          ]
        }
      ]
    },
    {
      "cell_type": "markdown",
      "source": [
        "# Decision Tree"
      ],
      "metadata": {
        "id": "BDimr1QfPkAR"
      }
    },
    {
      "cell_type": "code",
      "source": [
        "from sklearn.tree import DecisionTreeClassifier\n",
        "classifier = DecisionTreeClassifier()\n",
        "classifier.fit(x_train, y_train)"
      ],
      "metadata": {
        "colab": {
          "base_uri": "https://localhost:8080/"
        },
        "id": "OTh71S_pPnDD",
        "outputId": "5b7f99cc-a19b-454f-8dbe-af6f39ec1181"
      },
      "execution_count": null,
      "outputs": [
        {
          "output_type": "execute_result",
          "data": {
            "text/plain": [
              "DecisionTreeClassifier()"
            ]
          },
          "metadata": {},
          "execution_count": 303
        }
      ]
    },
    {
      "cell_type": "code",
      "source": [
        "accuracy = test_model(classifier, x_test, y_test, 'Decision Tree')\n",
        "results['DT'].append(accuracy)"
      ],
      "metadata": {
        "colab": {
          "base_uri": "https://localhost:8080/"
        },
        "id": "C5shJtBtXRYE",
        "outputId": "dbcf32a6-76a7-40c1-97aa-f114363ec374"
      },
      "execution_count": null,
      "outputs": [
        {
          "output_type": "stream",
          "name": "stdout",
          "text": [
            "[[2401   69]\n",
            " [  70 2460]]\n",
            "Accuracy for Decision Tree: 0.9722\n"
          ]
        }
      ]
    },
    {
      "cell_type": "markdown",
      "source": [
        "# Linear Discriminant Analysis"
      ],
      "metadata": {
        "id": "EZRyFaYmQVJb"
      }
    },
    {
      "cell_type": "code",
      "source": [
        "from sklearn.discriminant_analysis import LinearDiscriminantAnalysis\n",
        "classifier = LinearDiscriminantAnalysis()\n",
        "classifier.fit(x_train, y_train)"
      ],
      "metadata": {
        "colab": {
          "base_uri": "https://localhost:8080/"
        },
        "id": "acOQRiAJQZbN",
        "outputId": "62924b03-9860-4538-c280-a09c7cf299a7"
      },
      "execution_count": null,
      "outputs": [
        {
          "output_type": "execute_result",
          "data": {
            "text/plain": [
              "LinearDiscriminantAnalysis()"
            ]
          },
          "metadata": {},
          "execution_count": 305
        }
      ]
    },
    {
      "cell_type": "code",
      "source": [
        "accuracy = test_model(classifier, x_test, y_test, 'Linear Discriminant Analysis')\n",
        "results['LDA'].append(accuracy)"
      ],
      "metadata": {
        "colab": {
          "base_uri": "https://localhost:8080/"
        },
        "id": "13btvwI_Xgf7",
        "outputId": "cddf633c-5fdb-4b85-eedd-ca70e98a5a17"
      },
      "execution_count": null,
      "outputs": [
        {
          "output_type": "stream",
          "name": "stdout",
          "text": [
            "[[2440   30]\n",
            " [  20 2510]]\n",
            "Accuracy for Linear Discriminant Analysis: 0.99\n"
          ]
        }
      ]
    },
    {
      "cell_type": "markdown",
      "source": [
        "# Logistic Regression:"
      ],
      "metadata": {
        "id": "qQUDZpGKSnuf"
      }
    },
    {
      "cell_type": "code",
      "source": [
        "from sklearn.linear_model import LogisticRegression\n",
        "classifier = LogisticRegression()\n",
        "classifier.fit(x_train, y_train)"
      ],
      "metadata": {
        "colab": {
          "base_uri": "https://localhost:8080/"
        },
        "id": "MsnWZmCRSsXI",
        "outputId": "8fc1b7a4-f929-4195-e4d8-f512a7640d0f"
      },
      "execution_count": null,
      "outputs": [
        {
          "output_type": "stream",
          "name": "stderr",
          "text": [
            "/usr/local/lib/python3.7/dist-packages/sklearn/linear_model/_logistic.py:818: ConvergenceWarning: lbfgs failed to converge (status=1):\n",
            "STOP: TOTAL NO. of ITERATIONS REACHED LIMIT.\n",
            "\n",
            "Increase the number of iterations (max_iter) or scale the data as shown in:\n",
            "    https://scikit-learn.org/stable/modules/preprocessing.html\n",
            "Please also refer to the documentation for alternative solver options:\n",
            "    https://scikit-learn.org/stable/modules/linear_model.html#logistic-regression\n",
            "  extra_warning_msg=_LOGISTIC_SOLVER_CONVERGENCE_MSG,\n"
          ]
        },
        {
          "output_type": "execute_result",
          "data": {
            "text/plain": [
              "LogisticRegression()"
            ]
          },
          "metadata": {},
          "execution_count": 307
        }
      ]
    },
    {
      "cell_type": "code",
      "source": [
        "accuracy = test_model(classifier, x_test, y_test, 'Logistic Regression')\n",
        "results['LR'].append(accuracy)"
      ],
      "metadata": {
        "colab": {
          "base_uri": "https://localhost:8080/"
        },
        "id": "wdI4GLO9XrwT",
        "outputId": "c84ab70a-cb66-464b-b397-9d41802756de"
      },
      "execution_count": null,
      "outputs": [
        {
          "output_type": "stream",
          "name": "stdout",
          "text": [
            "[[2433   37]\n",
            " [  30 2500]]\n",
            "Accuracy for Logistic Regression: 0.9866\n"
          ]
        }
      ]
    },
    {
      "cell_type": "markdown",
      "source": [
        "# Multilayer Perceptron"
      ],
      "metadata": {
        "id": "41nQDEsLTfHW"
      }
    },
    {
      "cell_type": "code",
      "source": [
        "from sklearn.neural_network import MLPClassifier\n",
        "classifier = MLPClassifier(alpha=1, max_iter=1000)\n",
        "classifier.fit(x_train, y_train)"
      ],
      "metadata": {
        "colab": {
          "base_uri": "https://localhost:8080/"
        },
        "id": "mxFyg1pqTiAe",
        "outputId": "324da93c-9568-4b77-ac9a-17a8e418b971"
      },
      "execution_count": null,
      "outputs": [
        {
          "output_type": "execute_result",
          "data": {
            "text/plain": [
              "MLPClassifier(alpha=1, max_iter=1000)"
            ]
          },
          "metadata": {},
          "execution_count": 309
        }
      ]
    },
    {
      "cell_type": "code",
      "source": [
        "accuracy = test_model(classifier, x_test, y_test, 'Multilayer Perceptron ')\n",
        "results['MLP'].append(accuracy)"
      ],
      "metadata": {
        "colab": {
          "base_uri": "https://localhost:8080/"
        },
        "id": "flvn1i7EX-tc",
        "outputId": "27f5a305-b504-456a-f731-8e427d78a42e"
      },
      "execution_count": null,
      "outputs": [
        {
          "output_type": "stream",
          "name": "stdout",
          "text": [
            "[[2407   63]\n",
            " [  12 2518]]\n",
            "Accuracy for Multilayer Perceptron : 0.985\n"
          ]
        }
      ]
    },
    {
      "cell_type": "markdown",
      "source": [
        "# AdaBoost"
      ],
      "metadata": {
        "id": "LnYtFTiXUGws"
      }
    },
    {
      "cell_type": "code",
      "source": [
        "from sklearn.ensemble import AdaBoostClassifier\n",
        "classifier = AdaBoostClassifier()\n",
        "classifier.fit(x_train, y_train)"
      ],
      "metadata": {
        "colab": {
          "base_uri": "https://localhost:8080/"
        },
        "id": "V1RndkE4UJhh",
        "outputId": "8b576d05-90a9-43f2-c0b2-b4bad0267f3c"
      },
      "execution_count": null,
      "outputs": [
        {
          "output_type": "execute_result",
          "data": {
            "text/plain": [
              "AdaBoostClassifier()"
            ]
          },
          "metadata": {},
          "execution_count": 311
        }
      ]
    },
    {
      "cell_type": "code",
      "source": [
        "accuracy = test_model(classifier, x_test, y_test, 'AdaBoost')\n",
        "results['ADA'].append(accuracy)"
      ],
      "metadata": {
        "colab": {
          "base_uri": "https://localhost:8080/"
        },
        "id": "s7cNvY2pYR5K",
        "outputId": "fb03b143-e894-4bf2-f9a7-880cd04006e6"
      },
      "execution_count": null,
      "outputs": [
        {
          "output_type": "stream",
          "name": "stdout",
          "text": [
            "[[2433   37]\n",
            " [  38 2492]]\n",
            "Accuracy for AdaBoost: 0.985\n"
          ]
        }
      ]
    },
    {
      "cell_type": "markdown",
      "source": [
        "# **Wyniki**"
      ],
      "metadata": {
        "id": "HEmtSfPAYeFw"
      }
    },
    {
      "cell_type": "code",
      "source": [
        "print(results)"
      ],
      "metadata": {
        "colab": {
          "base_uri": "https://localhost:8080/"
        },
        "id": "lXDFZOboYdlA",
        "outputId": "86552aff-d2ae-4f50-cbd3-4e0b7b7dd17e"
      },
      "execution_count": null,
      "outputs": [
        {
          "output_type": "stream",
          "name": "stdout",
          "text": [
            "{'SVM': [0.9846], 'KSVM': [0.9894], 'NB': [0.9784], 'KNN': [0.9878], 'RF': [0.9862], 'DT': [0.9722], 'LDA': [0.99], 'LR': [0.9866], 'MLP': [0.985], 'ADA': [0.985]}\n"
          ]
        }
      ]
    },
    {
      "cell_type": "code",
      "source": [
        "import pandas as pd\n",
        "\n",
        "df = pd.DataFrame.from_dict(results, orient=\"index\")\n",
        "df.to_csv(f\"data_all.csv\")"
      ],
      "metadata": {
        "id": "Pfm6yLlLaXpB"
      },
      "execution_count": null,
      "outputs": []
    },
    {
      "cell_type": "markdown",
      "source": [
        "# **Analiza wyników**"
      ],
      "metadata": {
        "id": "ZSTSiteBa77N"
      }
    },
    {
      "cell_type": "code",
      "source": [
        "df = pd.read_csv(\"data_20.csv\", index_col=0)\n",
        "results = df.to_dict(\"split\")\n",
        "results = dict(zip(results[\"index\"], results[\"data\"]))"
      ],
      "metadata": {
        "id": "sKDFaY3Ua7Wd"
      },
      "execution_count": null,
      "outputs": []
    },
    {
      "cell_type": "code",
      "source": [
        "print(results) # KSVM 0.9554"
      ],
      "metadata": {
        "colab": {
          "base_uri": "https://localhost:8080/"
        },
        "id": "14jJRIycbNro",
        "outputId": "a61a7181-2f1f-4312-e039-1f76c14e7fc1"
      },
      "execution_count": null,
      "outputs": [
        {
          "output_type": "stream",
          "name": "stdout",
          "text": [
            "{'SVM': [0.9414], 'KSVM': [0.9554], 'NB': [0.9302], 'KNN': [0.9534], 'RF': [0.9494], 'DT': [0.9016], 'LDA': [0.9404], 'LR': [0.9422], 'MLP': [0.9412], 'ADA': [0.9272]}\n"
          ]
        }
      ]
    },
    {
      "cell_type": "code",
      "source": [
        "df = pd.read_csv(\"data_30.csv\", index_col=0)\n",
        "results = df.to_dict(\"split\")\n",
        "results = dict(zip(results[\"index\"], results[\"data\"]))"
      ],
      "metadata": {
        "id": "9ZgIb44Ybr5P"
      },
      "execution_count": null,
      "outputs": []
    },
    {
      "cell_type": "code",
      "source": [
        "print(results) # KSVM 0.9658"
      ],
      "metadata": {
        "colab": {
          "base_uri": "https://localhost:8080/"
        },
        "id": "9iFgUqNHbvFh",
        "outputId": "09422574-0dc4-42ea-be4d-d488c9750e4f"
      },
      "execution_count": null,
      "outputs": [
        {
          "output_type": "stream",
          "name": "stdout",
          "text": [
            "{'SVM': [0.9472], 'KSVM': [0.9658], 'NB': [0.9308], 'KNN': [0.9576], 'RF': [0.9536], 'DT': [0.8856], 'LDA': [0.9476], 'LR': [0.9468], 'MLP': [0.944], 'ADA': [0.9374]}\n"
          ]
        }
      ]
    },
    {
      "cell_type": "code",
      "source": [
        "df = pd.read_csv(\"data_50.csv\", index_col=0)\n",
        "results = df.to_dict(\"split\")\n",
        "results = dict(zip(results[\"index\"], results[\"data\"]))"
      ],
      "metadata": {
        "id": "QR4AEZmZhkIe"
      },
      "execution_count": null,
      "outputs": []
    },
    {
      "cell_type": "code",
      "source": [
        "print(results) # KSVM 0.9822"
      ],
      "metadata": {
        "colab": {
          "base_uri": "https://localhost:8080/"
        },
        "id": "KTFR88mChlaj",
        "outputId": "82207add-0bd8-4ce6-887a-989309166f1d"
      },
      "execution_count": null,
      "outputs": [
        {
          "output_type": "stream",
          "name": "stdout",
          "text": [
            "{'SVM': [0.9784], 'KSVM': [0.9822], 'NB': [0.9668], 'KNN': [0.9812], 'RF': [0.9738], 'DT': [0.9388], 'LDA': [0.9784], 'LR': [0.9786], 'MLP': [0.9784], 'ADA': [0.9706]}\n"
          ]
        }
      ]
    },
    {
      "cell_type": "code",
      "source": [
        "df = pd.read_csv(\"data_500.csv\", index_col=0)\n",
        "results = df.to_dict(\"split\")\n",
        "results = dict(zip(results[\"index\"], results[\"data\"]))"
      ],
      "metadata": {
        "id": "I03koXHLos1a"
      },
      "execution_count": null,
      "outputs": []
    },
    {
      "cell_type": "code",
      "source": [
        "print(results) # KSVM 0.9904"
      ],
      "metadata": {
        "colab": {
          "base_uri": "https://localhost:8080/"
        },
        "id": "mUApcaQgot2i",
        "outputId": "3f888d4e-111c-41c2-8958-6c952901e112"
      },
      "execution_count": null,
      "outputs": [
        {
          "output_type": "stream",
          "name": "stdout",
          "text": [
            "{'SVM': [0.989], 'KSVM': [0.9904], 'NB': [0.967], 'KNN': [0.99], 'RF': [0.9848], 'DT': [0.9588], 'LDA': [0.9898], 'LR': [0.9898], 'MLP': [0.987], 'ADA': [0.9816]}\n"
          ]
        }
      ]
    },
    {
      "cell_type": "code",
      "source": [
        "df = pd.read_csv(\"data_all.csv\", index_col=0)\n",
        "results = df.to_dict(\"split\")\n",
        "results = dict(zip(results[\"index\"], results[\"data\"]))"
      ],
      "metadata": {
        "id": "azAeTagq6-Tf"
      },
      "execution_count": null,
      "outputs": []
    },
    {
      "cell_type": "code",
      "source": [
        "print(results) # LDA 0.99"
      ],
      "metadata": {
        "colab": {
          "base_uri": "https://localhost:8080/"
        },
        "id": "TlNmyPCu7VC-",
        "outputId": "4b4e4a8f-5d54-49a9-cc6d-ce74320c4706"
      },
      "execution_count": null,
      "outputs": [
        {
          "output_type": "stream",
          "name": "stdout",
          "text": [
            "{'SVM': [0.9846], 'KSVM': [0.9894], 'NB': [0.9784], 'KNN': [0.9878], 'RF': [0.9862], 'DT': [0.9722], 'LDA': [0.99], 'LR': [0.9866], 'MLP': [0.985], 'ADA': [0.985]}\n"
          ]
        }
      ]
    },
    {
      "cell_type": "code",
      "source": [
        "models = ['SVM',\n",
        "           'KSVM',\n",
        "           'NB',\n",
        "           'KNN',\n",
        "           'RF',\n",
        "           'DT',\n",
        "           'LDA',\n",
        "           'LR',\n",
        "           'MLP',\n",
        "           'ADA']"
      ],
      "metadata": {
        "id": "ji1tk2tuo7P4"
      },
      "execution_count": null,
      "outputs": []
    },
    {
      "cell_type": "code",
      "source": [
        "def load_dict(path):\n",
        "  df = pd.read_csv(path, index_col=0)\n",
        "  results = df.to_dict(\"split\")\n",
        "  results = dict(zip(results[\"index\"], results[\"data\"]))\n",
        "  return results\n"
      ],
      "metadata": {
        "id": "pEXWAl4zrLf0"
      },
      "execution_count": null,
      "outputs": []
    },
    {
      "cell_type": "code",
      "source": [
        "df_20 = load_dict(\"data_20.csv\")\n",
        "df_30 = load_dict(\"data_30.csv\")\n",
        "df_50 = load_dict(\"data_50.csv\")\n",
        "df_500 = load_dict(\"data_500.csv\")\n",
        "df_2048 = load_dict(\"data_all.csv\")\n",
        "\n",
        "all_results = []\n",
        "all_names = []\n",
        "\n",
        "for name in models:\n",
        "  all_results.append(float(df_20[name][0]))\n",
        "  all_names.append(name + \" 20\")\n",
        "  all_results.append(float(df_30[name][0]))\n",
        "  all_names.append(name + \" 30\")\n",
        "  all_results.append(float(df_50[name][0]))\n",
        "  all_names.append(name + \" 50\")\n",
        "  all_results.append(float(df_500[name][0]))\n",
        "  all_names.append(name + \" 500\")\n",
        "  all_results.append(float(df_2048[name][0]))\n",
        "  all_names.append(name + \" 2048\")\n"
      ],
      "metadata": {
        "id": "SE4E7G5noy35"
      },
      "execution_count": null,
      "outputs": []
    },
    {
      "cell_type": "code",
      "source": [
        "print(df_20['SVM'])\n",
        "print(all_names[0])"
      ],
      "metadata": {
        "colab": {
          "base_uri": "https://localhost:8080/"
        },
        "id": "T9qMohnx7yg5",
        "outputId": "b6a19d32-4784-4ffd-d8ce-d922ef9150bd"
      },
      "execution_count": null,
      "outputs": [
        {
          "output_type": "stream",
          "name": "stdout",
          "text": [
            "[0.9414]\n",
            "SVM 20\n"
          ]
        }
      ]
    },
    {
      "cell_type": "code",
      "source": [
        "import matplotlib.pyplot as plt\n",
        "from matplotlib.pyplot import figure\n",
        "\n",
        "figure(figsize = (20,6), dpi=80)\n",
        "plt.bar(all_names, all_results, width = 0.8)\n",
        "plt.xticks(rotation = 75) \n",
        "plt.title(\"Porównanie klasycznych modeli ML uczonych na wektorach cech uzyskanych za pomocą sieci HRNet o zadanych długościach\")\n",
        "plt.ylim((0.85,1.0))\n",
        "plt.show()"
      ],
      "metadata": {
        "colab": {
          "base_uri": "https://localhost:8080/",
          "height": 483
        },
        "id": "4wLRRT--sa16",
        "outputId": "61afab93-bc38-4fdf-b335-2a6478a02683"
      },
      "execution_count": null,
      "outputs": [
        {
          "output_type": "display_data",
          "data": {
            "text/plain": [
              "<Figure size 1600x480 with 1 Axes>"
            ],
            "image/png": "[encoded data removed]"
          },
          "metadata": {
            "needs_background": "light"
          }
        }
      ]
    }
  ]
}